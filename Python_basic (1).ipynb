{
  "nbformat": 4,
  "nbformat_minor": 0,
  "metadata": {
    "colab": {
      "provenance": []
    },
    "kernelspec": {
      "name": "python3",
      "display_name": "Python 3"
    },
    "language_info": {
      "name": "python"
    }
  },
  "cells": [
    {
      "cell_type": "markdown",
      "source": [
        "#Python Basics Questions"
      ],
      "metadata": {
        "id": "9JcSujUHC5FF"
      }
    },
    {
      "cell_type": "markdown",
      "source": [
        "**Question-1. What is Python, and why is it popular. **\n",
        "Answer-1. Python is an easy- to- learn yet powerful object-oriented programming language. It is a very high-level programming language\n",
        "It is popular for-:\n",
        "Easy to use, expressive language, interpreted language, free & open source, its completeness, cross platform.\n",
        "\n",
        "**Question-2. What is an interpreter in Python. **\n",
        "Answer-2. In python, an interpreter is the program that reads and executes python code line by line. It handles everything from reading and understanding your code to actually executing it on your machine.\n",
        "\n",
        "**Question-3. What are pre-defined keywords in Python**.\n",
        "Answer-3. Predefined keywords in python (reserved words) are special words that have come specific meanings and purposes.\n",
        "\n",
        "**Question-4. Can keywords be used as variable names**.\n",
        "Answer-4. No, we cannot use them as variable names, function names or identifiers because they are part of the python syntax.\n",
        "\n",
        "**Question-5. What is mutability in Python.**\n",
        "Answer-5. Mutability refers to the ability of an object or data structure to change its state, value, or contents after it has been created.\n",
        "\n",
        "**Question- 6. Why are lists mutable, but tuples are immutable**.\n",
        "Answer-6.  LIST- These are mutable means you can change the contents (add, remove, etc) without changing the object’s identity.\n",
        "                 TUPLE- These are immutable means once created, the contents cannot be changed.\n",
        "              LIST – lists are designed to hold a sequence of items that may change overtime.\n",
        "          L1= [ 1,2,3]\n",
        "         L1 [0] = 12 # Allowed\n",
        "          TUPLE - Tuple are intended for fixed collections of items like data base records, coordinates etc.\n",
        "         T1 = (1, 2, 3) #error\n",
        "\n",
        "**Question-7. What is the difference between “==” and “is” operators in Python.**\n",
        "Answer-7.  **“==” (Equality operators)**\n",
        "•\tCompares the value of two objects.\n",
        "•\tReturns, true if the values are equal, false otherwise.\n",
        "•\tSuitable for comparing the content of objects.\n",
        "\n",
        "•\tL1 = [1,2,3]\n",
        " L2 = [ 1,2,3]\n",
        "L3 = L1\n",
        " Print (L1==L2) #TRUE\n",
        "\n",
        "**is (Identity operators)**\n",
        "•\tCompares the object’s identity (memory address).\n",
        "•\tReturns true if the variables point to same memory location, false………\n",
        "•\tUsed to check if two variables refer to the exact same object.\n",
        "•\tL1 = [4,5,6]\n",
        "L2 = [4,5,6]\n",
        "L3 = L1\n",
        "Print (L1 is L2) #False\n",
        "Print (L1 is L3) 3 True\n",
        "\n",
        "\n",
        "**Question-8. What are logical operators in Python.**\n",
        "Answer-8. In python, logical operators are used to combine conditional statement and returns Boolean values (True or False).\n",
        "    3 main logical operators are: -\n",
        "1.\tAnd - Returns true if both statements are true\n",
        "5>2 and 5<10 #True.\n",
        "2.\tOr - Returns true if at least one of the statements is true\n",
        "                        5<3 or 5>2 #True\n",
        "3.\tNot - Returns the result, returns False if the result is true\n",
        "                                  X=5\n",
        "                   Print (not(x>2)) #False\n",
        "\n",
        "**Queston-9. What is type casting in Python.**\n",
        "Answer-9. Type casting in python refers to converting a variable from one data type to another. This is useful when you want to perform operations that require a specific data type.\n",
        " For example converting a string to a number for calculations.\n",
        "\n",
        "\n",
        "**Question-10. What is the difference between implicit and explicit type casting**.\n",
        "Answer-10. The purpose of conditional statement is to allow you to make decisions based on the values of variables or the result of comparisons.\n",
        "         Types of conditional statement: -\n",
        "Decision making\n",
        "Control flow\n",
        "Dynamic behaviour\n",
        "\n",
        "\n",
        "**Question-11. What is the purpose of conditional statements in Python.**\n",
        "Answer-11. conditional statements in Python is to allow your program to make decisions and execute different code based on whether certain conditions are true or false.\n",
        "\n",
        "\n",
        "**Question-12. How does the elif statement work.**\n",
        "Answer-12. The elif statement in Python stands for \"else if\". It is used to check multiple conditions one after another. It only runs if all previous if and elif conditions were false, and its own condition is true.\n",
        "\n",
        "\n",
        "**Question-13. What is the difference between for and while loops.**\n",
        "Answer-13.\n",
        "       **FOR LOOP =**\n",
        "•\tUsed when you know in advance how many times you want to loop.\n",
        "•\tIterates over a sequence (like a list, range, string, etc.)\n",
        "\n",
        "A for loop when you're looping through items or a fixed number of times.\n",
        "\n",
        "\n",
        "**WHILE LOOP =**\n",
        "•\tUsed when you don’t necessarily know how many times to loop.\n",
        "•\tRepeats as long as a condition is true.\n",
        "\n",
        "A while loop when the loop needs to continue until a condition changes, often with user input or a process that ends based on runtime logic.\n",
        "\n",
        "\n",
        "      \n",
        "         **Question-14. Describe a scenario where a while loop is more suitable than a for loop.**\n",
        "          Answer-14. A while loop is more suitable than a for loop when you don't know in advance how many times the loop needs to run — especially when the loop depends on something changing during execution, like user input, random events, or ongoing conditions.\n",
        "\n",
        "\n",
        "\n",
        "\n",
        "\n",
        "\n",
        "\n",
        "\n",
        "\n",
        "\n",
        "\n",
        "\n",
        "      \n",
        "\n",
        "   \n",
        "\n",
        "\n"
      ],
      "metadata": {
        "id": "t9ME5n_HAKia"
      }
    },
    {
      "cell_type": "markdown",
      "source": [
        "#  Practical Questions\n"
      ],
      "metadata": {
        "id": "dZ31hHseCq4r"
      }
    },
    {
      "cell_type": "markdown",
      "source": [
        "**Question-1.** Write a Python program to print \"Hello, World!\"."
      ],
      "metadata": {
        "id": "mbX6RHXXDFxW"
      }
    },
    {
      "cell_type": "markdown",
      "source": [
        "**Question-2.** Write a Python program that displays your name and age"
      ],
      "metadata": {
        "id": "3cCbKQkwFMeF"
      }
    },
    {
      "cell_type": "code",
      "source": [
        "print(\"HELLO, WORLD!\")"
      ],
      "metadata": {
        "colab": {
          "base_uri": "https://localhost:8080/"
        },
        "id": "-jg0KjqJCjCK",
        "outputId": "a6fbf2c4-fa22-41c4-9df6-e41d41e4ad85"
      },
      "execution_count": null,
      "outputs": [
        {
          "output_type": "stream",
          "name": "stdout",
          "text": [
            "HELLO, WORLD!\n"
          ]
        }
      ]
    },
    {
      "cell_type": "code",
      "source": [
        "Name = \"Anand singh\"\n",
        "Age = 18\n",
        "print(\"Name:\" ,Name)\n",
        "print(\"Age:\",Age)"
      ],
      "metadata": {
        "colab": {
          "base_uri": "https://localhost:8080/"
        },
        "id": "6oXbeSRbC1NK",
        "outputId": "33162d4a-04a0-4902-a49f-061ceaaa3d6e"
      },
      "execution_count": null,
      "outputs": [
        {
          "output_type": "stream",
          "name": "stdout",
          "text": [
            "Name: Anand singh\n",
            "Age: 18\n"
          ]
        }
      ]
    },
    {
      "cell_type": "markdown",
      "source": [
        "**Question-3.**Write code to print all the pre-defined keywords in Python using the keyword library."
      ],
      "metadata": {
        "id": "9XX-nVhHGFjS"
      }
    },
    {
      "cell_type": "code",
      "source": [
        "print(\"Python keywords are...\")\n",
        "print(keyword.kwlist)\n"
      ],
      "metadata": {
        "colab": {
          "base_uri": "https://localhost:8080/",
          "height": 176
        },
        "id": "rBELAwrMGYwI",
        "outputId": "f44645aa-ae30-4681-d77f-46915509fddd"
      },
      "execution_count": null,
      "outputs": [
        {
          "output_type": "stream",
          "name": "stdout",
          "text": [
            "Python keywords are...\n"
          ]
        },
        {
          "output_type": "error",
          "ename": "NameError",
          "evalue": "name 'keyword' is not defined",
          "traceback": [
            "\u001b[0;31m---------------------------------------------------------------------------\u001b[0m",
            "\u001b[0;31mNameError\u001b[0m                                 Traceback (most recent call last)",
            "\u001b[0;32m<ipython-input-14-1495429020>\u001b[0m in \u001b[0;36m<cell line: 0>\u001b[0;34m()\u001b[0m\n\u001b[1;32m      1\u001b[0m \u001b[0mprint\u001b[0m\u001b[0;34m(\u001b[0m\u001b[0;34m\"Python keywords are...\"\u001b[0m\u001b[0;34m)\u001b[0m\u001b[0;34m\u001b[0m\u001b[0;34m\u001b[0m\u001b[0m\n\u001b[0;32m----> 2\u001b[0;31m \u001b[0mprint\u001b[0m\u001b[0;34m(\u001b[0m\u001b[0mkeyword\u001b[0m\u001b[0;34m.\u001b[0m\u001b[0mkwlist\u001b[0m\u001b[0;34m)\u001b[0m\u001b[0;34m\u001b[0m\u001b[0;34m\u001b[0m\u001b[0m\n\u001b[0m",
            "\u001b[0;31mNameError\u001b[0m: name 'keyword' is not defined"
          ]
        }
      ]
    },
    {
      "cell_type": "markdown",
      "source": [
        "**Question-4.** Write a program that checks if a given word is a Python keyword."
      ],
      "metadata": {
        "id": "OdWt64c3HWKN"
      }
    },
    {
      "cell_type": "markdown",
      "source": [
        "**Question-5.**Create a list and tuple in Python, and demonstrate how attempting to change an element works differently\n",
        "for each."
      ],
      "metadata": {
        "id": "tkTHp0LlIB3W"
      }
    },
    {
      "cell_type": "code",
      "source": [
        "import keyword\n",
        "\n",
        "s = 'for'\n",
        "if keyword.iskeyword(s):\n",
        "    print(f\"'{s}' is a Python keyword.\")\n",
        "else:\n",
        "    print(f\"'{s}' is not a Python keyword.\")"
      ],
      "metadata": {
        "colab": {
          "base_uri": "https://localhost:8080/"
        },
        "id": "FOTeLfV5HpZn",
        "outputId": "1012d34a-7e80-49ff-e51d-2f807813f4d4"
      },
      "execution_count": null,
      "outputs": [
        {
          "output_type": "stream",
          "name": "stdout",
          "text": [
            "'for' is a Python keyword.\n"
          ]
        }
      ]
    },
    {
      "cell_type": "code",
      "source": [
        "my_list = [10, 20, 30]\n",
        "print(\"Original list:\", my_list)\n",
        "my_list[0] = 99\n",
        "print(\"Modified list:\", my_list)\n",
        "my_tuple = (10, 20, 30)\n",
        "print(\"Original tuple:\", my_tuple)\n",
        "try:\n",
        "    my_tuple[0] = 99\n",
        "except TypeError as e:\n",
        "    print(\"Error when modify tuple:\", e)\n"
      ],
      "metadata": {
        "colab": {
          "base_uri": "https://localhost:8080/"
        },
        "id": "Fjp0LIc5IMqW",
        "outputId": "a9caf5c5-e7d9-476f-8238-806a96135e5c"
      },
      "execution_count": null,
      "outputs": [
        {
          "output_type": "stream",
          "name": "stdout",
          "text": [
            "Original list: [10, 20, 30]\n",
            "Modified list: [99, 20, 30]\n",
            "Original tuple: (10, 20, 30)\n",
            "Error when modify tuple: 'tuple' object does not support item assignment\n"
          ]
        }
      ]
    },
    {
      "cell_type": "markdown",
      "source": [
        "**Question-6.**Write a function to demonstrate the behavior of mutable and immutable arguments."
      ],
      "metadata": {
        "id": "8i7tBKctKISE"
      }
    },
    {
      "cell_type": "markdown",
      "source": [
        "**MUTABLE ARGUMEN**T are easy to change thats example are given below :-"
      ],
      "metadata": {
        "id": "hxfhWEKqYJMJ"
      }
    },
    {
      "cell_type": "code",
      "source": [
        "list=[1,2,3,4,5+5j,True,\"anand\"]\n",
        "list"
      ],
      "metadata": {
        "id": "ZjKcTp2WKQ_x",
        "colab": {
          "base_uri": "https://localhost:8080/"
        },
        "outputId": "c7f8c332-06a4-48b0-f2e2-4180ab6e84b9"
      },
      "execution_count": null,
      "outputs": [
        {
          "output_type": "execute_result",
          "data": {
            "text/plain": [
              "[1, 2, 3, 4, (5+5j), True, 'anand']"
            ]
          },
          "metadata": {},
          "execution_count": 17
        }
      ]
    },
    {
      "cell_type": "code",
      "source": [
        "list[5]"
      ],
      "metadata": {
        "colab": {
          "base_uri": "https://localhost:8080/"
        },
        "id": "FXGno0AzXsVI",
        "outputId": "92433bf2-2ea5-487a-9e06-21611e8d3536"
      },
      "execution_count": null,
      "outputs": [
        {
          "output_type": "execute_result",
          "data": {
            "text/plain": [
              "True"
            ]
          },
          "metadata": {},
          "execution_count": 18
        }
      ]
    },
    {
      "cell_type": "code",
      "source": [
        "list[5] = \"False\""
      ],
      "metadata": {
        "id": "-e8yysl8XxAd"
      },
      "execution_count": null,
      "outputs": []
    },
    {
      "cell_type": "code",
      "source": [
        "list"
      ],
      "metadata": {
        "colab": {
          "base_uri": "https://localhost:8080/"
        },
        "id": "lmXoVWsmX42a",
        "outputId": "a1e1cae5-267f-4a59-8add-328e3567a958"
      },
      "execution_count": null,
      "outputs": [
        {
          "output_type": "execute_result",
          "data": {
            "text/plain": [
              "[1, 2, 3, 4, (5+5j), 'False', 'anand']"
            ]
          },
          "metadata": {},
          "execution_count": 20
        }
      ]
    },
    {
      "cell_type": "markdown",
      "source": [
        "**IMMUTABLE ARGUMENT** are not be change thats example are given below :-"
      ],
      "metadata": {
        "id": "4lOkyNCiYc0F"
      }
    },
    {
      "cell_type": "code",
      "source": [
        "a=\"anand singh\"\n",
        "a"
      ],
      "metadata": {
        "colab": {
          "base_uri": "https://localhost:8080/",
          "height": 36
        },
        "id": "Z5IP_LNoYvzv",
        "outputId": "6d657d34-2e96-4259-a0de-7d5d31a42b79"
      },
      "execution_count": null,
      "outputs": [
        {
          "output_type": "execute_result",
          "data": {
            "text/plain": [
              "'anand singh'"
            ],
            "application/vnd.google.colaboratory.intrinsic+json": {
              "type": "string"
            }
          },
          "metadata": {},
          "execution_count": 11
        }
      ]
    },
    {
      "cell_type": "code",
      "source": [
        "a[0]=\"thakur\""
      ],
      "metadata": {
        "colab": {
          "base_uri": "https://localhost:8080/",
          "height": 141
        },
        "id": "6qGjSeHTY-ma",
        "outputId": "3bb91f12-9462-45be-8a5c-4ab102500563"
      },
      "execution_count": null,
      "outputs": [
        {
          "output_type": "error",
          "ename": "TypeError",
          "evalue": "'int' object does not support item assignment",
          "traceback": [
            "\u001b[0;31m---------------------------------------------------------------------------\u001b[0m",
            "\u001b[0;31mTypeError\u001b[0m                                 Traceback (most recent call last)",
            "\u001b[0;32m<ipython-input-25-547671015>\u001b[0m in \u001b[0;36m<cell line: 0>\u001b[0;34m()\u001b[0m\n\u001b[0;32m----> 1\u001b[0;31m \u001b[0ma\u001b[0m\u001b[0;34m[\u001b[0m\u001b[0;36m0\u001b[0m\u001b[0;34m]\u001b[0m\u001b[0;34m=\u001b[0m\u001b[0;34m\"thakur\"\u001b[0m\u001b[0;34m\u001b[0m\u001b[0;34m\u001b[0m\u001b[0m\n\u001b[0m",
            "\u001b[0;31mTypeError\u001b[0m: 'int' object does not support item assignment"
          ]
        }
      ]
    },
    {
      "cell_type": "code",
      "source": [
        "a =100\n",
        "a"
      ],
      "metadata": {
        "colab": {
          "base_uri": "https://localhost:8080/"
        },
        "id": "Fz7DrIsXZDq-",
        "outputId": "e6eed3ae-d61e-4f9b-a73e-dfac55a0d614"
      },
      "execution_count": null,
      "outputs": [
        {
          "output_type": "execute_result",
          "data": {
            "text/plain": [
              "100"
            ]
          },
          "metadata": {},
          "execution_count": 22
        }
      ]
    },
    {
      "cell_type": "code",
      "source": [
        "a[0]=10"
      ],
      "metadata": {
        "colab": {
          "base_uri": "https://localhost:8080/",
          "height": 141
        },
        "id": "fLn371p5ZKmQ",
        "outputId": "f3a3a5d8-8a56-42ee-ec6f-c240eefea892"
      },
      "execution_count": null,
      "outputs": [
        {
          "output_type": "error",
          "ename": "TypeError",
          "evalue": "'int' object does not support item assignment",
          "traceback": [
            "\u001b[0;31m---------------------------------------------------------------------------\u001b[0m",
            "\u001b[0;31mTypeError\u001b[0m                                 Traceback (most recent call last)",
            "\u001b[0;32m<ipython-input-26-4139648472>\u001b[0m in \u001b[0;36m<cell line: 0>\u001b[0;34m()\u001b[0m\n\u001b[0;32m----> 1\u001b[0;31m \u001b[0ma\u001b[0m\u001b[0;34m[\u001b[0m\u001b[0;36m0\u001b[0m\u001b[0;34m]\u001b[0m\u001b[0;34m=\u001b[0m\u001b[0;36m10\u001b[0m\u001b[0;34m\u001b[0m\u001b[0;34m\u001b[0m\u001b[0m\n\u001b[0m",
            "\u001b[0;31mTypeError\u001b[0m: 'int' object does not support item assignment"
          ]
        }
      ]
    },
    {
      "cell_type": "markdown",
      "source": [
        "**Question-7**.Write a program that performs basic arithmetic operations on two user-input numbers.\n"
      ],
      "metadata": {
        "id": "knlggJneZcOG"
      }
    },
    {
      "cell_type": "code",
      "source": [
        "num1 = float(input(\"Enter first number: \"))\n",
        "num2 = float(input(\"Enter second number: \"))\n",
        "addition = num1 + num2\n",
        "subtraction = num1 - num2\n",
        "multiplication = num1 * num2\n",
        "\n",
        "if num2 != 0:\n",
        "    division = num1 / num2\n",
        "else:\n",
        "    division = \"Undefined (division by zero)\"\n",
        "print(\"\\nResults:\")\n",
        "print(f\"Addition: {num1} + {num2} = {addition}\")\n",
        "print(f\"Subtraction: {num1} - {num2} = {subtraction}\")\n",
        "print(f\"Multiplication: {num1} * {num2} = {multiplication}\")\n",
        "print(f\"Division: {num1} / {num2} = {division}\")\n",
        "\n"
      ],
      "metadata": {
        "id": "zva_6biKZjQ-",
        "colab": {
          "base_uri": "https://localhost:8080/"
        },
        "outputId": "ffd68b02-17b2-459b-c73b-2a1ccbfbe8bb"
      },
      "execution_count": null,
      "outputs": [
        {
          "output_type": "stream",
          "name": "stdout",
          "text": [
            "Enter first number: 5\n",
            "Enter second number: 2\n",
            "\n",
            "Results:\n",
            "Addition: 5.0 + 2.0 = 7.0\n",
            "Subtraction: 5.0 - 2.0 = 3.0\n",
            "Multiplication: 5.0 * 2.0 = 10.0\n",
            "Division: 5.0 / 2.0 = 2.5\n"
          ]
        }
      ]
    },
    {
      "cell_type": "markdown",
      "source": [
        "**Question-8**. Write a program to demonstrate the use of logical operators."
      ],
      "metadata": {
        "id": "fCYlfE7NV5gD"
      }
    },
    {
      "cell_type": "code",
      "source": [
        "age = int(input(\"Enter your age: \"))\n",
        "has_ticket = input(\"Do you have a ticket? (yes/no): \").lower()\n",
        "if age >= 18 and has_ticket == \"yes\":\n",
        "    print(\"You are allowed to enter.\")\n",
        "else:\n",
        "    print(\"You are not allowed to enter.\")\n",
        "if age < 18 or has_ticket != \"yes\":\n",
        "    print(\"Either you are underage or you don't have a ticket.\")\n",
        "if not (age >= 18 and has_ticket == \"yes\"):\n",
        "    print(\"Access denied due to logical NOT condition.\")\n"
      ],
      "metadata": {
        "colab": {
          "base_uri": "https://localhost:8080/"
        },
        "id": "2FCCK57CWSCs",
        "outputId": "89880f40-e0dd-4d04-faf3-0e69fc3708ad"
      },
      "execution_count": null,
      "outputs": [
        {
          "output_type": "stream",
          "name": "stdout",
          "text": [
            "Enter your age: 19\n",
            "Do you have a ticket? (yes/no): yes\n",
            "You are allowed to enter.\n"
          ]
        }
      ]
    },
    {
      "cell_type": "markdown",
      "source": [
        "**Question-9**.. Write a Python program to convert user input from string to integer, float, and boolean types."
      ],
      "metadata": {
        "id": "x4PpGgbrWmrt"
      }
    },
    {
      "cell_type": "code",
      "source": [
        "user_input = input(\"Enter a value: \")\n",
        "try:\n",
        "    int_value = int(user_input)\n",
        "    print(f\"Integer: {int_value}\")\n",
        "except ValueError:\n",
        "    print(\"Cannot convert to integer.\")\n",
        "try:\n",
        "    float_value = float(user_input)\n",
        "    print(f\"Float: {float_value}\")\n",
        "except ValueError:\n",
        "    print(\"Cannot convert to float.\")\n",
        "bool_value = bool(user_input)\n",
        "print(f\"Boolean: {bool_value}\")\n"
      ],
      "metadata": {
        "colab": {
          "base_uri": "https://localhost:8080/"
        },
        "id": "MNzXQ_SBWtw5",
        "outputId": "839f8258-2b3e-4b5c-c685-39eaf31fae21"
      },
      "execution_count": null,
      "outputs": [
        {
          "output_type": "stream",
          "name": "stdout",
          "text": [
            "Enter a value: anand singh\n",
            "Cannot convert to integer.\n",
            "Cannot convert to float.\n",
            "Boolean: True\n"
          ]
        }
      ]
    },
    {
      "cell_type": "markdown",
      "source": [
        "**Question-10**.Write code to demonstrate type casting with list elements"
      ],
      "metadata": {
        "id": "-fK0Th6tXIV3"
      }
    },
    {
      "cell_type": "code",
      "source": [
        "str_list = ['10', '20', '30', '40.5', 'True', 'False']\n",
        "int_list = []\n",
        "float_list = []\n",
        "bool_list = []\n",
        "\n",
        "for item in str_list:\n",
        "    try:\n",
        "        int_list.append(int(float(item)))\n",
        "    except ValueError:\n",
        "        int_list.append(\"N/A\")\n",
        "    try:\n",
        "        float_list.append(float(item))\n",
        "    except ValueError:\n",
        "        float_list.append(\"N/A\")\n",
        "    bool_list.append(bool(item))\n",
        "print(\"Original list:\", str_list)\n",
        "print(\"As integers:\", int_list)\n",
        "print(\"As floats:\", float_list)\n",
        "print(\"As booleans:\", bool_list)\n"
      ],
      "metadata": {
        "colab": {
          "base_uri": "https://localhost:8080/"
        },
        "id": "TmwxM4VyXRK4",
        "outputId": "5b91ec16-5155-4a20-d376-df40f97b08b1"
      },
      "execution_count": null,
      "outputs": [
        {
          "output_type": "stream",
          "name": "stdout",
          "text": [
            "Original list: ['10', '20', '30', '40.5', 'True', 'False']\n",
            "As integers: [10, 20, 30, 40, 'N/A', 'N/A']\n",
            "As floats: [10.0, 20.0, 30.0, 40.5, 'N/A', 'N/A']\n",
            "As booleans: [True, True, True, True, True, True]\n"
          ]
        }
      ]
    },
    {
      "cell_type": "markdown",
      "source": [
        "Question-**11**.Write a program that checks if a number is positive, negative, or zero.\n",
        "\n"
      ],
      "metadata": {
        "id": "q1Hna0p7XrME"
      }
    },
    {
      "cell_type": "code",
      "source": [
        "num = float(input(\"Enter a number: \"))\n",
        "if num > 0:\n",
        "    print(\"The number is positive.\")\n",
        "elif num < 0:\n",
        "    print(\"The number is negative.\")\n",
        "else:\n",
        "    print(\"The number is zero.\")\n"
      ],
      "metadata": {
        "colab": {
          "base_uri": "https://localhost:8080/"
        },
        "id": "Zmf47uYsX6Z-",
        "outputId": "b1f2041a-457e-4836-bacd-03cfa9c087b8"
      },
      "execution_count": null,
      "outputs": [
        {
          "output_type": "stream",
          "name": "stdout",
          "text": [
            "Enter a number: -5\n",
            "The number is negative.\n"
          ]
        }
      ]
    },
    {
      "cell_type": "markdown",
      "source": [
        "**Question-12**. Write a for loop to print numbers from 1 to 10."
      ],
      "metadata": {
        "id": "N0vgvKtQYPeo"
      }
    },
    {
      "cell_type": "code",
      "source": [
        "for i in range(1, 11):\n",
        "    print(i)\n"
      ],
      "metadata": {
        "colab": {
          "base_uri": "https://localhost:8080/"
        },
        "id": "nJD73oZiYZWp",
        "outputId": "5c32281a-22fd-4492-efba-e8aa0fdd98f3"
      },
      "execution_count": null,
      "outputs": [
        {
          "output_type": "stream",
          "name": "stdout",
          "text": [
            "1\n",
            "2\n",
            "3\n",
            "4\n",
            "5\n",
            "6\n",
            "7\n",
            "8\n",
            "9\n",
            "10\n"
          ]
        }
      ]
    },
    {
      "cell_type": "markdown",
      "source": [
        "**Questin-13**.Write a Python program to find the sum of all even numbers between 1 and 50"
      ],
      "metadata": {
        "id": "hYr1RX2TYiuz"
      }
    },
    {
      "cell_type": "code",
      "source": [
        "even_sum = 0\n",
        "\n",
        "for num in range(1, 51):\n",
        "    if num % 2 == 0:\n",
        "        even_sum += num\n",
        "\n",
        "print(\"Sum of even numbers from 1 to 50 is:\", even_sum)\n"
      ],
      "metadata": {
        "colab": {
          "base_uri": "https://localhost:8080/"
        },
        "id": "mvZKUR9hYuAV",
        "outputId": "1c281669-0e74-4c9f-a2b1-4a4bd484c7a5"
      },
      "execution_count": null,
      "outputs": [
        {
          "output_type": "stream",
          "name": "stdout",
          "text": [
            "Sum of even numbers from 1 to 50 is: 650\n"
          ]
        }
      ]
    },
    {
      "cell_type": "markdown",
      "source": [
        "**Question-14.** Write a program to reverse a string using a while loop."
      ],
      "metadata": {
        "id": "_Z7wtAH_YyCX"
      }
    },
    {
      "cell_type": "code",
      "source": [
        "text = input(\"Enter a string: \")\n",
        "reversed_text = \"\"\n",
        "index = len(text) - 1\n",
        "while index >= 0:\n",
        "    reversed_text += text[index]\n",
        "    index -= 1\n",
        "\n",
        "print(\"Reversed string:\", reversed_text)\n"
      ],
      "metadata": {
        "id": "PYG_DK_DY_fa",
        "colab": {
          "base_uri": "https://localhost:8080/"
        },
        "outputId": "0a9e45e0-2132-4886-89e2-eae6cc18def1"
      },
      "execution_count": null,
      "outputs": [
        {
          "output_type": "stream",
          "name": "stdout",
          "text": [
            "Enter a string: anand singh\n",
            "Reversed string: hgnis dnana\n"
          ]
        }
      ]
    },
    {
      "cell_type": "markdown",
      "source": [
        "**Question-15**.Write a Python program to calculate the factorial of a number provided by the user using a while loop."
      ],
      "metadata": {
        "id": "SHqH8YNidkUE"
      }
    },
    {
      "cell_type": "code",
      "source": [
        "num = int(input(\"Enter a non-negative integer: \"))\n",
        "if num < 0:\n",
        "    print(\"Factorial is not defined for negative numbers.\")\n",
        "else:\n",
        "    factorial = 1\n",
        "    n = num\n",
        "    while n > 0:\n",
        "        factorial *= n\n",
        "        n -= 1\n",
        "\n",
        "    print(f\"Factorial of {num} is: {factorial}\")\n"
      ],
      "metadata": {
        "colab": {
          "base_uri": "https://localhost:8080/"
        },
        "id": "GWoThPVAd14g",
        "outputId": "c7d284a7-74aa-4042-fafb-d18000b8317b"
      },
      "execution_count": null,
      "outputs": [
        {
          "output_type": "stream",
          "name": "stdout",
          "text": [
            "Enter a non-negative integer: 3\n",
            "Factorial of 3 is: 6\n"
          ]
        }
      ]
    }
  ]
}